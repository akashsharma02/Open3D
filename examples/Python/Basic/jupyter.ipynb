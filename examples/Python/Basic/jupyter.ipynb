{
 "cells": [
  {
   "cell_type": "markdown",
   "metadata": {},
   "source": [
    "# Jupyter Visualization\n",
    "Since version 0.4.0, we added experimental support for Jupyter visualization with WebGL. If Open3D is installed from pip or conda repository, Jupyter supported is enabled by default. If Open3D is compiled from source, please refer to Setup Python binding environments on how to [build Open3D with Jupyter visualization support](../../compilation.rst#jupyter-visualization-widgets-support-experimental).\n",
    "\n",
    "Note that Jupyter Visualization is still at an early experimental stage. Here are the main limitations:\n",
    "\n",
    "1. Only point cloud geometry is supported.\n",
    "2. Camera is initialized with fixed parameters, therefore, the initial view may not be optimal for the point cloud.\n",
    "3. Performance is not optimized.\n",
    "\n",
    "## Controls\n",
    "\n",
    "- Mouse wheel: zoom in/out\n",
    "- Left mouse button drag: rotate axis\n",
    "- Right mouse button drag: panning\n",
    "\n",
    "## Example usage\n",
    "Jupyter visualizer is defined in the `JVisualizer` class. Initialize the class, call `add_geometry` to add an Open3D geometry, and then call the `show` to display the Jupyter widgets."
   ]
  },
  {
   "cell_type": "code",
   "execution_count": null,
   "metadata": {},
   "outputs": [],
   "source": [
    "import numpy as np\n",
    "import open3d as o3\n",
    "from open3d import JVisualizer\n",
    "\n",
    "pts_path = \"examples/TestData/fragment.ply\"\n",
    "fragment = o3.read_point_cloud(pts_path)\n",
    "visualizer = JVisualizer()\n",
    "visualizer.add_geometry(fragment)\n",
    "visualizer.show()"
   ]
  },
  {
   "cell_type": "markdown",
   "metadata": {},
   "source": [
    "If the point cloud is not visible (due to the fixed camera initialization), try first zooming in/out with mouse wheel, and dragging right button of the mouse to pan."
   ]
  }
 ],
 "metadata": {
  "kernelspec": {
   "display_name": "Python 3",
   "language": "python",
   "name": "python3"
  },
  "language_info": {
   "codemirror_mode": {
    "name": "ipython",
    "version": 3
   },
   "file_extension": ".py",
   "mimetype": "text/x-python",
   "name": "python",
   "nbconvert_exporter": "python",
   "pygments_lexer": "ipython3",
   "version": "3.7.5"
  }
 },
 "nbformat": 4,
 "nbformat_minor": 4
}
